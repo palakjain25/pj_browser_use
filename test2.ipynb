{
 "cells": [
  {
   "cell_type": "code",
   "execution_count": null,
   "id": "e9e14558",
   "metadata": {},
   "outputs": [],
   "source": [
    "# !playwright install"
   ]
  },
  {
   "cell_type": "code",
   "execution_count": 1,
   "id": "21af8e07",
   "metadata": {},
   "outputs": [
    {
     "name": "stdout",
     "output_type": "stream",
     "text": [
      "INFO     [telemetry] Anonymized telemetry enabled. See https://docs.browser-use.com/development/telemetry for more information.\n"
     ]
    }
   ],
   "source": [
    "import os\n",
    "import asyncio\n",
    "from langchain_ollama import ChatOllama\n",
    "from browser_use import Agent, BrowserSession"
   ]
  },
  {
   "cell_type": "code",
   "execution_count": 2,
   "metadata": {},
   "outputs": [],
   "source": [
    "# Optional: Disable telemetry\n",
    "os.environ[\"ANONYMIZED_TELEMETRY\"] = \"false\"\n",
    "\n",
    "# Optional: Set the OLLAMA host to a remote server\n",
    "os.environ[\"OLLAMA_HOST\"] = \"http://127.0.0.1:11434\"  # Replace with actual host if remote"
   ]
  },
  {
   "cell_type": "code",
   "execution_count": 3,
   "metadata": {},
   "outputs": [],
   "source": [
    "browser_session = BrowserSession(\n",
    "    executable_path=r'C:\\Program Files (x86)\\Google\\Chrome\\Application\\chrome.exe'\n",
    ")"
   ]
  },
  {
   "cell_type": "code",
   "execution_count": 4,
   "metadata": {},
   "outputs": [],
   "source": [
    "llm = ChatOllama(model=\"qwen2.5:7b\")  # Check if model name matches exactly"
   ]
  },
  {
   "cell_type": "code",
   "execution_count": null,
   "id": "0f5362f5",
   "metadata": {},
   "outputs": [
    {
     "name": "stdout",
     "output_type": "stream",
     "text": [
      "DEBUG    [telemetry] Telemetry event: controller_registered_functions {'registered_functions': [{'name': 'done', 'params': {'properties': {'text': {'title': 'Text', 'type': 'string'}, 'success': {'title': 'Success', 'type': 'boolean'}}, 'required': ['text', 'success'], 'title': 'DoneAction', 'type': 'object'}}, {'name': 'search_google', 'params': {'properties': {'query': {'title': 'Query', 'type': 'string'}}, 'required': ['query'], 'title': 'SearchGoogleAction', 'type': 'object'}}, {'name': 'go_to_url', 'params': {'properties': {'url': {'title': 'Url', 'type': 'string'}}, 'required': ['url'], 'title': 'GoToUrlAction', 'type': 'object'}}, {'name': 'go_back', 'params': {'additionalProperties': True, 'description': 'Accepts absolutely anything in the incoming data\\nand discards it, so the final parsed model is empty.', 'properties': {}, 'title': 'NoParamsAction', 'type': 'object'}}, {'name': 'wait', 'params': {'properties': {'seconds': {'default': 3, 'title': 'Seconds', 'type': 'integer'}}, 'title': 'wait_Params', 'type': 'object'}}, {'name': 'click_element_by_index', 'params': {'properties': {'index': {'title': 'Index', 'type': 'integer'}, 'xpath': {'anyOf': [{'type': 'string'}, {'type': 'null'}], 'default': None, 'title': 'Xpath'}}, 'required': ['index'], 'title': 'ClickElementAction', 'type': 'object'}}, {'name': 'input_text', 'params': {'properties': {'index': {'title': 'Index', 'type': 'integer'}, 'text': {'title': 'Text', 'type': 'string'}, 'xpath': {'anyOf': [{'type': 'string'}, {'type': 'null'}], 'default': None, 'title': 'Xpath'}}, 'required': ['index', 'text'], 'title': 'InputTextAction', 'type': 'object'}}, {'name': 'save_pdf', 'params': {'properties': {}, 'title': 'save_pdf_Params', 'type': 'object'}}, {'name': 'switch_tab', 'params': {'properties': {'page_id': {'title': 'Page Id', 'type': 'integer'}}, 'required': ['page_id'], 'title': 'SwitchTabAction', 'type': 'object'}}, {'name': 'open_tab', 'params': {'properties': {'url': {'title': 'Url', 'type': 'string'}}, 'required': ['url'], 'title': 'OpenTabAction', 'type': 'object'}}, {'name': 'close_tab', 'params': {'properties': {'page_id': {'title': 'Page Id', 'type': 'integer'}}, 'required': ['page_id'], 'title': 'CloseTabAction', 'type': 'object'}}, {'name': 'extract_content', 'params': {'properties': {'goal': {'title': 'Goal', 'type': 'string'}, 'include_links': {'default': False, 'title': 'Include Links', 'type': 'boolean'}}, 'required': ['goal'], 'title': 'extract_content_Params', 'type': 'object'}}, {'name': 'get_ax_tree', 'params': {'properties': {'number_of_elements': {'title': 'Number Of Elements', 'type': 'integer'}}, 'required': ['number_of_elements'], 'title': 'get_ax_tree_Params', 'type': 'object'}}, {'name': 'scroll_down', 'params': {'properties': {'amount': {'anyOf': [{'type': 'integer'}, {'type': 'null'}], 'default': None, 'title': 'Amount'}}, 'title': 'ScrollAction', 'type': 'object'}}, {'name': 'scroll_up', 'params': {'properties': {'amount': {'anyOf': [{'type': 'integer'}, {'type': 'null'}], 'default': None, 'title': 'Amount'}}, 'title': 'ScrollAction', 'type': 'object'}}, {'name': 'send_keys', 'params': {'properties': {'keys': {'title': 'Keys', 'type': 'string'}}, 'required': ['keys'], 'title': 'SendKeysAction', 'type': 'object'}}, {'name': 'scroll_to_text', 'params': {'properties': {'text': {'title': 'Text', 'type': 'string'}}, 'required': ['text'], 'title': 'scroll_to_text_Params', 'type': 'object'}}, {'name': 'get_dropdown_options', 'params': {'properties': {'index': {'title': 'Index', 'type': 'integer'}}, 'required': ['index'], 'title': 'get_dropdown_options_Params', 'type': 'object'}}, {'name': 'select_dropdown_option', 'params': {'properties': {'index': {'title': 'Index', 'type': 'integer'}, 'text': {'title': 'Text', 'type': 'string'}}, 'required': ['index', 'text'], 'title': 'select_dropdown_option_Params', 'type': 'object'}}, {'name': 'drag_drop', 'params': {'$defs': {'Position': {'properties': {'x': {'title': 'X', 'type': 'integer'}, 'y': {'title': 'Y', 'type': 'integer'}}, 'required': ['x', 'y'], 'title': 'Position', 'type': 'object'}}, 'properties': {'element_source': {'anyOf': [{'type': 'string'}, {'type': 'null'}], 'default': None, 'description': 'CSS selector or XPath of the element to drag from', 'title': 'Element Source'}, 'element_target': {'anyOf': [{'type': 'string'}, {'type': 'null'}], 'default': None, 'description': 'CSS selector or XPath of the element to drop onto', 'title': 'Element Target'}, 'element_source_offset': {'anyOf': [{'$ref': '#/$defs/Position'}, {'type': 'null'}], 'default': None, 'description': 'Precise position within the source element to start drag (in pixels from top-left corner)'}, 'element_target_offset': {'anyOf': [{'$ref': '#/$defs/Position'}, {'type': 'null'}], 'default': None, 'description': 'Precise position within the target element to drop (in pixels from top-left corner)'}, 'coord_source_x': {'anyOf': [{'type': 'integer'}, {'type': 'null'}], 'default': None, 'description': 'Absolute X coordinate on page to start drag from (in pixels)', 'title': 'Coord Source X'}, 'coord_source_y': {'anyOf': [{'type': 'integer'}, {'type': 'null'}], 'default': None, 'description': 'Absolute Y coordinate on page to start drag from (in pixels)', 'title': 'Coord Source Y'}, 'coord_target_x': {'anyOf': [{'type': 'integer'}, {'type': 'null'}], 'default': None, 'description': 'Absolute X coordinate on page to drop at (in pixels)', 'title': 'Coord Target X'}, 'coord_target_y': {'anyOf': [{'type': 'integer'}, {'type': 'null'}], 'default': None, 'description': 'Absolute Y coordinate on page to drop at (in pixels)', 'title': 'Coord Target Y'}, 'steps': {'anyOf': [{'type': 'integer'}, {'type': 'null'}], 'default': 10, 'description': 'Number of intermediate points for smoother movement (5-20 recommended)', 'title': 'Steps'}, 'delay_ms': {'anyOf': [{'type': 'integer'}, {'type': 'null'}], 'default': 5, 'description': 'Delay in milliseconds between steps (0 for fastest, 10-20 for more natural)', 'title': 'Delay Ms'}}, 'title': 'DragDropAction', 'type': 'object'}}]}\n"
     ]
    },
    {
     "name": "stdout",
     "output_type": "stream",
     "text": [
      "DEBUG    [telemetry] Telemetry event: controller_registered_functions {'registered_functions': [{'name': 'done', 'params': {'properties': {'text': {'title': 'Text', 'type': 'string'}, 'success': {'title': 'Success', 'type': 'boolean'}}, 'required': ['text', 'success'], 'title': 'DoneAction', 'type': 'object'}}]}\n",
      "DEBUG    [agent] Version: v0.2.5, Source: pip\n",
      "DEBUG    [agent] 🛠️ Tool calling method 'tools' test failed: ValueError: Unrecognized method argument. Expected one of 'function_calling', 'json_schema', or 'json_mode'. Received: 'tools'\n",
      "DEBUG    [agent] 🛠️ Tool calling method json_mode failed: LLM responded with invalid JSON\n",
      "DEBUG    [agent] 🛠️ Tested LLM in parallel and chose tool calling method: [function_calling] in 63.37s\n",
      "INFO     [agent] 🧠 Starting a browser-use agent v0.2.5 with base_model=qwen2.5:7b +tools +memory extraction_model=None \n"
     ]
    },
    {
     "name": "stderr",
     "output_type": "stream",
     "text": [
      "d:\\2025_Projects\\browser_use\\browser_use\\Lib\\site-packages\\faiss\\loader.py:49: DeprecationWarning: numpy.core._multiarray_umath is deprecated and has been renamed to numpy._core._multiarray_umath. The numpy._core namespace contains private NumPy internals and its use is discouraged, as NumPy internals can change without warning in any release. In practice, most real-world usage of numpy.core is to access functionality in the public NumPy API. If that is the case, use the public NumPy API. If not, you are using NumPy internals. If you would still like to access an internal attribute, use numpy._core._multiarray_umath.__cpu_features__.\n",
      "  from numpy.core._multiarray_umath import __cpu_features__\n"
     ]
    },
    {
     "name": "stdout",
     "output_type": "stream",
     "text": [
      "DEBUG    [browser_use] ⏳ init (agent)() took 73.58s\n",
      "INFO     [agent] 🚀 Starting task: go to amazon.com and search for scissors.\n",
      "DEBUG    [agent] Version: v0.2.5, Source: pip\n"
     ]
    },
    {
     "name": "stderr",
     "output_type": "stream",
     "text": [
      "Task exception was never retrieved\n",
      "future: <Task finished name='Task-7' coro=<Connection.run() done, defined at d:\\2025_Projects\\browser_use\\browser_use\\Lib\\site-packages\\playwright\\_impl\\_connection.py:272> exception=NotImplementedError()>\n",
      "Traceback (most recent call last):\n",
      "  File \"C:\\Users\\Palak Jain\\AppData\\Local\\Programs\\Python\\Python312\\Lib\\asyncio\\tasks.py\", line 314, in __step_run_and_handle_result\n",
      "    result = coro.send(None)\n",
      "             ^^^^^^^^^^^^^^^\n",
      "  File \"d:\\2025_Projects\\browser_use\\browser_use\\Lib\\site-packages\\playwright\\_impl\\_connection.py\", line 279, in run\n",
      "    await self._transport.connect()\n",
      "  File \"d:\\2025_Projects\\browser_use\\browser_use\\Lib\\site-packages\\playwright\\_impl\\_transport.py\", line 133, in connect\n",
      "    raise exc\n",
      "  File \"d:\\2025_Projects\\browser_use\\browser_use\\Lib\\site-packages\\playwright\\_impl\\_transport.py\", line 120, in connect\n",
      "    self._proc = await asyncio.create_subprocess_exec(\n",
      "                 ^^^^^^^^^^^^^^^^^^^^^^^^^^^^^^^^^^^^^\n",
      "  File \"C:\\Users\\Palak Jain\\AppData\\Local\\Programs\\Python\\Python312\\Lib\\asyncio\\subprocess.py\", line 224, in create_subprocess_exec\n",
      "    transport, protocol = await loop.subprocess_exec(\n",
      "                          ^^^^^^^^^^^^^^^^^^^^^^^^^^^\n",
      "  File \"C:\\Users\\Palak Jain\\AppData\\Local\\Programs\\Python\\Python312\\Lib\\asyncio\\base_events.py\", line 1743, in subprocess_exec\n",
      "    transport = await self._make_subprocess_transport(\n",
      "                ^^^^^^^^^^^^^^^^^^^^^^^^^^^^^^^^^^^^^^\n",
      "  File \"C:\\Users\\Palak Jain\\AppData\\Local\\Programs\\Python\\Python312\\Lib\\asyncio\\base_events.py\", line 524, in _make_subprocess_transport\n",
      "    raise NotImplementedError\n",
      "NotImplementedError\n"
     ]
    },
    {
     "name": "stdout",
     "output_type": "stream",
     "text": [
      "ERROR    [agent] ❌ Result failed 1/3 times:\n",
      " \n",
      "Stacktrace:\n",
      "Traceback (most recent call last):\n",
      "  File \"d:\\2025_Projects\\browser_use\\browser_use\\Lib\\site-packages\\browser_use\\agent\\service.py\", line 781, in step\n",
      "    browser_state_summary = await self.browser_session.get_state_summary(cache_clickable_elements_hashes=True)\n",
      "                            ^^^^^^^^^^^^^^^^^^^^^^^^^^^^^^^^^^^^^^^^^^^^^^^^^^^^^^^^^^^^^^^^^^^^^^^^^^^^^^^^^^\n",
      "  File \"d:\\2025_Projects\\browser_use\\browser_use\\Lib\\site-packages\\browser_use\\browser\\session.py\", line 1537, in get_state_summary\n",
      "    await self._wait_for_page_and_frames_load()\n",
      "  File \"d:\\2025_Projects\\browser_use\\browser_use\\Lib\\site-packages\\browser_use\\browser\\session.py\", line 1286, in _wait_for_page_and_frames_load\n",
      "    page = await self.get_current_page()\n",
      "           ^^^^^^^^^^^^^^^^^^^^^^^^^^^^^\n",
      "  File \"d:\\2025_Projects\\browser_use\\browser_use\\Lib\\site-packages\\browser_use\\browser\\session.py\", line 819, in get_current_page\n",
      "    await self.start()\n",
      "  File \"d:\\2025_Projects\\browser_use\\browser_use\\Lib\\site-packages\\browser_use\\browser\\session.py\", line 263, in start\n",
      "    await self.setup_playwright()\n",
      "  File \"d:\\2025_Projects\\browser_use\\browser_use\\Lib\\site-packages\\browser_use\\browser\\session.py\", line 331, in setup_playwright\n",
      "    self.playwright = self.playwright or (await async_playwright().start())\n",
      "                                          ^^^^^^^^^^^^^^^^^^^^^^^^^^^^^^^^\n",
      "  File \"d:\\2025_Projects\\browser_use\\browser_use\\Lib\\site-packages\\playwright\\async_api\\_context_manager.py\", line 51, in start\n",
      "    return await self.__aenter__()\n",
      "           ^^^^^^^^^^^^^^^^^^^^^^^\n",
      "  File \"d:\\2025_Projects\\browser_use\\browser_use\\Lib\\site-packages\\playwright\\async_api\\_context_manager.py\", line 46, in __aenter__\n",
      "    playwright = AsyncPlaywright(next(iter(done)).result())\n",
      "                                 ^^^^^^^^^^^^^^^^^^^^^^^^^\n",
      "  File \"C:\\Users\\Palak Jain\\AppData\\Local\\Programs\\Python\\Python312\\Lib\\asyncio\\futures.py\", line 203, in result\n",
      "    raise self._exception.with_traceback(self._exception_tb)\n",
      "  File \"d:\\2025_Projects\\browser_use\\browser_use\\Lib\\site-packages\\playwright\\_impl\\_transport.py\", line 120, in connect\n",
      "    self._proc = await asyncio.create_subprocess_exec(\n",
      "                 ^^^^^^^^^^^^^^^^^^^^^^^^^^^^^^^^^^^^^\n",
      "  File \"C:\\Users\\Palak Jain\\AppData\\Local\\Programs\\Python\\Python312\\Lib\\asyncio\\subprocess.py\", line 224, in create_subprocess_exec\n",
      "    transport, protocol = await loop.subprocess_exec(\n",
      "                          ^^^^^^^^^^^^^^^^^^^^^^^^^^^\n",
      "  File \"C:\\Users\\Palak Jain\\AppData\\Local\\Programs\\Python\\Python312\\Lib\\asyncio\\base_events.py\", line 1743, in subprocess_exec\n",
      "    transport = await self._make_subprocess_transport(\n",
      "                ^^^^^^^^^^^^^^^^^^^^^^^^^^^^^^^^^^^^^^\n",
      "  File \"C:\\Users\\Palak Jain\\AppData\\Local\\Programs\\Python\\Python312\\Lib\\asyncio\\base_events.py\", line 524, in _make_subprocess_transport\n",
      "    raise NotImplementedError\n",
      "NotImplementedError\n",
      "\n",
      "DEBUG    [browser_use] ⏳ handle_step_error (agent)() took 4.41s\n",
      "INFO     [agent] 📍 Step 1: Ran 1 actions in 6.03s: ❌ 1\n",
      "DEBUG    [browser_use] ⏳ step (agent)() took 6.03s\n"
     ]
    },
    {
     "name": "stderr",
     "output_type": "stream",
     "text": [
      "Task exception was never retrieved\n",
      "future: <Task finished name='Task-8' coro=<Connection.run() done, defined at d:\\2025_Projects\\browser_use\\browser_use\\Lib\\site-packages\\playwright\\_impl\\_connection.py:272> exception=NotImplementedError()>\n",
      "Traceback (most recent call last):\n",
      "  File \"C:\\Users\\Palak Jain\\AppData\\Local\\Programs\\Python\\Python312\\Lib\\asyncio\\tasks.py\", line 314, in __step_run_and_handle_result\n",
      "    result = coro.send(None)\n",
      "             ^^^^^^^^^^^^^^^\n",
      "  File \"d:\\2025_Projects\\browser_use\\browser_use\\Lib\\site-packages\\playwright\\_impl\\_connection.py\", line 279, in run\n",
      "    await self._transport.connect()\n",
      "  File \"d:\\2025_Projects\\browser_use\\browser_use\\Lib\\site-packages\\playwright\\_impl\\_transport.py\", line 133, in connect\n",
      "    raise exc\n",
      "  File \"d:\\2025_Projects\\browser_use\\browser_use\\Lib\\site-packages\\playwright\\_impl\\_transport.py\", line 120, in connect\n",
      "    self._proc = await asyncio.create_subprocess_exec(\n",
      "                 ^^^^^^^^^^^^^^^^^^^^^^^^^^^^^^^^^^^^^\n",
      "  File \"C:\\Users\\Palak Jain\\AppData\\Local\\Programs\\Python\\Python312\\Lib\\asyncio\\subprocess.py\", line 224, in create_subprocess_exec\n",
      "    transport, protocol = await loop.subprocess_exec(\n",
      "                          ^^^^^^^^^^^^^^^^^^^^^^^^^^^\n",
      "  File \"C:\\Users\\Palak Jain\\AppData\\Local\\Programs\\Python\\Python312\\Lib\\asyncio\\base_events.py\", line 1743, in subprocess_exec\n",
      "    transport = await self._make_subprocess_transport(\n",
      "                ^^^^^^^^^^^^^^^^^^^^^^^^^^^^^^^^^^^^^^\n",
      "  File \"C:\\Users\\Palak Jain\\AppData\\Local\\Programs\\Python\\Python312\\Lib\\asyncio\\base_events.py\", line 524, in _make_subprocess_transport\n",
      "    raise NotImplementedError\n",
      "NotImplementedError\n"
     ]
    },
    {
     "name": "stdout",
     "output_type": "stream",
     "text": [
      "ERROR    [agent] ❌ Result failed 2/3 times:\n",
      " \n",
      "Stacktrace:\n",
      "Traceback (most recent call last):\n",
      "  File \"d:\\2025_Projects\\browser_use\\browser_use\\Lib\\site-packages\\browser_use\\agent\\service.py\", line 781, in step\n",
      "    browser_state_summary = await self.browser_session.get_state_summary(cache_clickable_elements_hashes=True)\n",
      "                            ^^^^^^^^^^^^^^^^^^^^^^^^^^^^^^^^^^^^^^^^^^^^^^^^^^^^^^^^^^^^^^^^^^^^^^^^^^^^^^^^^^\n",
      "  File \"d:\\2025_Projects\\browser_use\\browser_use\\Lib\\site-packages\\browser_use\\browser\\session.py\", line 1537, in get_state_summary\n",
      "    await self._wait_for_page_and_frames_load()\n",
      "  File \"d:\\2025_Projects\\browser_use\\browser_use\\Lib\\site-packages\\browser_use\\browser\\session.py\", line 1286, in _wait_for_page_and_frames_load\n",
      "    page = await self.get_current_page()\n",
      "           ^^^^^^^^^^^^^^^^^^^^^^^^^^^^^\n",
      "  File \"d:\\2025_Projects\\browser_use\\browser_use\\Lib\\site-packages\\browser_use\\browser\\session.py\", line 819, in get_current_page\n",
      "    await self.start()\n",
      "  File \"d:\\2025_Projects\\browser_use\\browser_use\\Lib\\site-packages\\browser_use\\browser\\session.py\", line 263, in start\n",
      "    await self.setup_playwright()\n",
      "  File \"d:\\2025_Projects\\browser_use\\browser_use\\Lib\\site-packages\\browser_use\\browser\\session.py\", line 331, in setup_playwright\n",
      "    self.playwright = self.playwright or (await async_playwright().start())\n",
      "                                          ^^^^^^^^^^^^^^^^^^^^^^^^^^^^^^^^\n",
      "  File \"d:\\2025_Projects\\browser_use\\browser_use\\Lib\\site-packages\\playwright\\async_api\\_context_manager.py\", line 51, in start\n",
      "    return await self.__aenter__()\n",
      "           ^^^^^^^^^^^^^^^^^^^^^^^\n",
      "  File \"d:\\2025_Projects\\browser_use\\browser_use\\Lib\\site-packages\\playwright\\async_api\\_context_manager.py\", line 46, in __aenter__\n",
      "    playwright = AsyncPlaywright(next(iter(done)).result())\n",
      "                                 ^^^^^^^^^^^^^^^^^^^^^^^^^\n",
      "  File \"C:\\Users\\Palak Jain\\AppData\\Local\\Programs\\Python\\Python312\\Lib\\asyncio\\futures.py\", line 203, in result\n",
      "    raise self._exception.with_traceback(self._exception_tb)\n",
      "  File \"d:\\2025_Projects\\browser_use\\browser_use\\Lib\\site-packages\\playwright\\_impl\\_transport.py\", line 120, in connect\n",
      "    self._proc = await asyncio.create_subprocess_exec(\n",
      "                 ^^^^^^^^^^^^^^^^^^^^^^^^^^^^^^^^^^^^^\n",
      "  File \"C:\\Users\\Palak Jain\\AppData\\Local\\Programs\\Python\\Python312\\Lib\\asyncio\\subprocess.py\", line 224, in create_subprocess_exec\n",
      "    transport, protocol = await loop.subprocess_exec(\n",
      "                          ^^^^^^^^^^^^^^^^^^^^^^^^^^^\n",
      "  File \"C:\\Users\\Palak Jain\\AppData\\Local\\Programs\\Python\\Python312\\Lib\\asyncio\\base_events.py\", line 1743, in subprocess_exec\n",
      "    transport = await self._make_subprocess_transport(\n",
      "                ^^^^^^^^^^^^^^^^^^^^^^^^^^^^^^^^^^^^^^\n",
      "  File \"C:\\Users\\Palak Jain\\AppData\\Local\\Programs\\Python\\Python312\\Lib\\asyncio\\base_events.py\", line 524, in _make_subprocess_transport\n",
      "    raise NotImplementedError\n",
      "NotImplementedError\n",
      "\n",
      "INFO     [agent] 📍 Step 1: Ran 1 actions in 0.01s: ❌ 1\n"
     ]
    },
    {
     "name": "stderr",
     "output_type": "stream",
     "text": [
      "Task exception was never retrieved\n",
      "future: <Task finished name='Task-9' coro=<Connection.run() done, defined at d:\\2025_Projects\\browser_use\\browser_use\\Lib\\site-packages\\playwright\\_impl\\_connection.py:272> exception=NotImplementedError()>\n",
      "Traceback (most recent call last):\n",
      "  File \"C:\\Users\\Palak Jain\\AppData\\Local\\Programs\\Python\\Python312\\Lib\\asyncio\\tasks.py\", line 314, in __step_run_and_handle_result\n",
      "    result = coro.send(None)\n",
      "             ^^^^^^^^^^^^^^^\n",
      "  File \"d:\\2025_Projects\\browser_use\\browser_use\\Lib\\site-packages\\playwright\\_impl\\_connection.py\", line 279, in run\n",
      "    await self._transport.connect()\n",
      "  File \"d:\\2025_Projects\\browser_use\\browser_use\\Lib\\site-packages\\playwright\\_impl\\_transport.py\", line 133, in connect\n",
      "    raise exc\n",
      "  File \"d:\\2025_Projects\\browser_use\\browser_use\\Lib\\site-packages\\playwright\\_impl\\_transport.py\", line 120, in connect\n",
      "    self._proc = await asyncio.create_subprocess_exec(\n",
      "                 ^^^^^^^^^^^^^^^^^^^^^^^^^^^^^^^^^^^^^\n",
      "  File \"C:\\Users\\Palak Jain\\AppData\\Local\\Programs\\Python\\Python312\\Lib\\asyncio\\subprocess.py\", line 224, in create_subprocess_exec\n",
      "    transport, protocol = await loop.subprocess_exec(\n",
      "                          ^^^^^^^^^^^^^^^^^^^^^^^^^^^\n",
      "  File \"C:\\Users\\Palak Jain\\AppData\\Local\\Programs\\Python\\Python312\\Lib\\asyncio\\base_events.py\", line 1743, in subprocess_exec\n",
      "    transport = await self._make_subprocess_transport(\n",
      "                ^^^^^^^^^^^^^^^^^^^^^^^^^^^^^^^^^^^^^^\n",
      "  File \"C:\\Users\\Palak Jain\\AppData\\Local\\Programs\\Python\\Python312\\Lib\\asyncio\\base_events.py\", line 524, in _make_subprocess_transport\n",
      "    raise NotImplementedError\n",
      "NotImplementedError\n"
     ]
    },
    {
     "name": "stdout",
     "output_type": "stream",
     "text": [
      "ERROR    [agent] ❌ Result failed 3/3 times:\n",
      " \n",
      "Stacktrace:\n",
      "Traceback (most recent call last):\n",
      "  File \"d:\\2025_Projects\\browser_use\\browser_use\\Lib\\site-packages\\browser_use\\agent\\service.py\", line 781, in step\n",
      "    browser_state_summary = await self.browser_session.get_state_summary(cache_clickable_elements_hashes=True)\n",
      "                            ^^^^^^^^^^^^^^^^^^^^^^^^^^^^^^^^^^^^^^^^^^^^^^^^^^^^^^^^^^^^^^^^^^^^^^^^^^^^^^^^^^\n",
      "  File \"d:\\2025_Projects\\browser_use\\browser_use\\Lib\\site-packages\\browser_use\\browser\\session.py\", line 1537, in get_state_summary\n",
      "    await self._wait_for_page_and_frames_load()\n",
      "  File \"d:\\2025_Projects\\browser_use\\browser_use\\Lib\\site-packages\\browser_use\\browser\\session.py\", line 1286, in _wait_for_page_and_frames_load\n",
      "    page = await self.get_current_page()\n",
      "           ^^^^^^^^^^^^^^^^^^^^^^^^^^^^^\n",
      "  File \"d:\\2025_Projects\\browser_use\\browser_use\\Lib\\site-packages\\browser_use\\browser\\session.py\", line 819, in get_current_page\n",
      "    await self.start()\n",
      "  File \"d:\\2025_Projects\\browser_use\\browser_use\\Lib\\site-packages\\browser_use\\browser\\session.py\", line 263, in start\n",
      "    await self.setup_playwright()\n",
      "  File \"d:\\2025_Projects\\browser_use\\browser_use\\Lib\\site-packages\\browser_use\\browser\\session.py\", line 331, in setup_playwright\n",
      "    self.playwright = self.playwright or (await async_playwright().start())\n",
      "                                          ^^^^^^^^^^^^^^^^^^^^^^^^^^^^^^^^\n",
      "  File \"d:\\2025_Projects\\browser_use\\browser_use\\Lib\\site-packages\\playwright\\async_api\\_context_manager.py\", line 51, in start\n",
      "    return await self.__aenter__()\n",
      "           ^^^^^^^^^^^^^^^^^^^^^^^\n",
      "  File \"d:\\2025_Projects\\browser_use\\browser_use\\Lib\\site-packages\\playwright\\async_api\\_context_manager.py\", line 46, in __aenter__\n",
      "    playwright = AsyncPlaywright(next(iter(done)).result())\n",
      "                                 ^^^^^^^^^^^^^^^^^^^^^^^^^\n",
      "  File \"C:\\Users\\Palak Jain\\AppData\\Local\\Programs\\Python\\Python312\\Lib\\asyncio\\futures.py\", line 203, in result\n",
      "    raise self._exception.with_traceback(self._exception_tb)\n",
      "  File \"d:\\2025_Projects\\browser_use\\browser_use\\Lib\\site-packages\\playwright\\_impl\\_transport.py\", line 120, in connect\n",
      "    self._proc = await asyncio.create_subprocess_exec(\n",
      "                 ^^^^^^^^^^^^^^^^^^^^^^^^^^^^^^^^^^^^^\n",
      "  File \"C:\\Users\\Palak Jain\\AppData\\Local\\Programs\\Python\\Python312\\Lib\\asyncio\\subprocess.py\", line 224, in create_subprocess_exec\n",
      "    transport, protocol = await loop.subprocess_exec(\n",
      "                          ^^^^^^^^^^^^^^^^^^^^^^^^^^^\n",
      "  File \"C:\\Users\\Palak Jain\\AppData\\Local\\Programs\\Python\\Python312\\Lib\\asyncio\\base_events.py\", line 1743, in subprocess_exec\n",
      "    transport = await self._make_subprocess_transport(\n",
      "                ^^^^^^^^^^^^^^^^^^^^^^^^^^^^^^^^^^^^^^\n",
      "  File \"C:\\Users\\Palak Jain\\AppData\\Local\\Programs\\Python\\Python312\\Lib\\asyncio\\base_events.py\", line 524, in _make_subprocess_transport\n",
      "    raise NotImplementedError\n",
      "NotImplementedError\n",
      "\n",
      "INFO     [agent] 📍 Step 1: Ran 1 actions in 0.01s: ❌ 1\n",
      "ERROR    [agent] ❌ Stopping due to 3 consecutive failures\n",
      "DEBUG    [telemetry] Telemetry event: agent_event {'task': 'go to amazon.com and search for scissors.', 'model': 'qwen2.5:7b', 'model_provider': 'ChatOllama', 'planner_llm': None, 'max_steps': 100, 'max_actions_per_step': 10, 'use_vision': False, 'use_validation': False, 'version': 'v0.2.5', 'source': 'pip', 'action_errors': [], 'action_history': [], 'urls_visited': [], 'steps': 1, 'total_input_tokens': 0, 'total_duration_seconds': 0.0, 'success': None, 'final_result_response': None, 'error_message': 'Stopped due to 3 consecutive failures'}\n",
      "DEBUG    [browser_use] ⏳ run (agent)() took 6.22s\n",
      "AgentHistoryList(all_results=[], all_model_outputs=[])\n"
     ]
    }
   ],
   "source": [
    "import nest_asyncio\n",
    "nest_asyncio.apply()\n",
    "\n",
    "async def main():\n",
    "    agent = Agent(\n",
    "        task=\"go to amazon.com\",\n",
    "        llm=llm, \n",
    "        use_vision=False,\n",
    "        browser_session=browser_session\n",
    "    )\n",
    "    result = await agent.run()\n",
    "    print(result)\n",
    "    await browser_session.close()\n",
    "\n",
    "asyncio.run(main())"
   ]
  },
  {
   "cell_type": "code",
   "execution_count": null,
   "id": "12183c7f",
   "metadata": {},
   "outputs": [],
   "source": []
  }
 ],
 "metadata": {
  "kernelspec": {
   "display_name": "browser_use",
   "language": "python",
   "name": "python3"
  },
  "language_info": {
   "codemirror_mode": {
    "name": "ipython",
    "version": 3
   },
   "file_extension": ".py",
   "mimetype": "text/x-python",
   "name": "python",
   "nbconvert_exporter": "python",
   "pygments_lexer": "ipython3",
   "version": "3.12.5"
  }
 },
 "nbformat": 4,
 "nbformat_minor": 5
}
